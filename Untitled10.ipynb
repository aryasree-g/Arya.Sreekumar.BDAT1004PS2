{
 "cells": [
  {
   "cell_type": "markdown",
   "id": "c69dd5f3",
   "metadata": {},
   "source": [
    "//Question 1 Answer\n",
    "\n",
    "When expression (a) is finally evaluated, the value 6 is displayed\n",
    "\n",
    "Explanation:-\n",
    "\n",
    "The initial value of the global variable \"a\" is set to zero. To modify the value of \"a\" the function \"b\" calls the \"c\"  function.\n",
    "\n",
    "First, when 'b' is called, then 'c(a)' is invoked which returns the result of 'a' ie, 0 + 2 = 2,  'a' changes to 2.\n",
    "\n",
    "When \"b\" is called again, it updates \"a\" once again by calling \"c(a)\" with the revised value of \"a\" which is 2, causing \"a\" to become \"4\".\n",
    "\n",
    "Lastly, when \"b\" is called a third time, it alters \"a\" by calling \"c(a)\" which will result in a new value of 6 (ie, 4 + 2).\n",
    "\n",
    "As a result, the output of the last expression \"a\" will be evaluated as 6, which is the current value of the global variable \"a.\"\n"
   ]
  },
  {
   "cell_type": "code",
   "execution_count": 9,
   "id": "978c5bb0",
   "metadata": {},
   "outputs": [
    {
     "name": "stdout",
     "output_type": "stream",
     "text": [
      "Number of lines in the file =  55\n",
      "File idterm.py not found.\n"
     ]
    }
   ],
   "source": [
    "#Question 2 Answer\n",
    "\n",
    "def fileLength(fileName):\n",
    "    \n",
    "    try:\n",
    "        fd = open(fileName)      \n",
    "        if fd.readable():           \n",
    "            print('Number of lines in the file = ', len(fd.readlines()))        \n",
    "        else:\n",
    "            print(f\"File {fileName} not found..\")\n",
    "            \n",
    "    except Exception as error:\n",
    "            print(f\"File {fileName} not found.\")\n",
    "\n",
    "\n",
    "fileLength('miidterm.py')\n",
    "fileLength('idterm.py')"
   ]
  },
  {
   "cell_type": "code",
   "execution_count": 17,
   "id": "772745d4",
   "metadata": {},
   "outputs": [
    {
     "name": "stdout",
     "output_type": "stream",
     "text": [
      "['doll', 'firetruck', 'kitten']\n",
      "I am a Kangaroo located at coordinates (0,0)\n",
      "['doll', 'firetruck', 'kitten']\n",
      "I am a Kangaroo located at coordinates (3,0)\n"
     ]
    }
   ],
   "source": [
    "#Question 3 Answer\n",
    "class Marsupial:\n",
    "    def __init__(var):\n",
    "        var.que = []\n",
    "\n",
    "    def put_in_pouch(var, value):\n",
    "        var.que.append(value)\n",
    "\n",
    "    def pouch_contents(var):\n",
    "        return var.que\n",
    "\n",
    "class Kangaroo(Marsupial):\n",
    "    def __init__(var, x=0, y=0):\n",
    "        super().__init__()\n",
    "        var.x = x\n",
    "        var.y = y\n",
    "\n",
    "    def jump(var, dx, dy):\n",
    "        var.x =  var.x + dx\n",
    "        var.y =  var.y + dy\n",
    "\n",
    "    def __str__(var):\n",
    "        return f\"I am a Kangaroo located at coordinates ({var.x},{var.y})\"\n",
    "\n",
    "m = Marsupial()\n",
    "m.put_in_pouch('doll')\n",
    "m.put_in_pouch('firetruck')\n",
    "m.put_in_pouch('kitten')\n",
    "print(m.pouch_contents()) \n",
    "\n",
    "\n",
    "k = Kangaroo(0, 0)\n",
    "print(k)\n",
    "k.put_in_pouch('doll')\n",
    "k.put_in_pouch('firetruck')\n",
    "k.put_in_pouch('kitten')\n",
    "print(k.pouch_contents())\n",
    "k.jump(1, 0)\n",
    "k.jump(1, 0)\n",
    "k.jump(1, 0)\n",
    "print(k)\n"
   ]
  },
  {
   "cell_type": "code",
   "execution_count": 22,
   "id": "fad60cfe",
   "metadata": {},
   "outputs": [
    {
     "name": "stdout",
     "output_type": "stream",
     "text": [
      "Enter a positive integer: 10\n",
      "10\n",
      "5\n",
      "16\n",
      "8\n",
      "4\n",
      "2\n",
      "1\n"
     ]
    }
   ],
   "source": [
    "#Question 4 Answer\n",
    "def collatz(inputVal):\n",
    "    print(inputVal)  \n",
    "    if inputVal == 1:\n",
    "        return\n",
    "    elif inputVal % 2 == 0:\n",
    "        collatz(inputVal//2)\n",
    "    else:\n",
    "        collatz(3*inputVal + 1)\n",
    "        \n",
    "\n",
    "number = int(input(\"Enter a positive integer: \"))\n",
    "collatz(number)"
   ]
  },
  {
   "cell_type": "code",
   "execution_count": 25,
   "id": "1d1f1a57",
   "metadata": {},
   "outputs": [
    {
     "name": "stdout",
     "output_type": "stream",
     "text": [
      "Enter the number: 3\n",
      "11"
     ]
    }
   ],
   "source": [
    "#Question 5 Answer\n",
    "def binary(n):\n",
    "    if n > 1:\n",
    "        binary(n//2)\n",
    "    print(n % 2,end = '')\n",
    "    \n",
    "inputNum = int(input(\"Enter the number: \"));\n",
    "binary(inputNum)"
   ]
  },
  {
   "cell_type": "code",
   "execution_count": 38,
   "id": "dbde97f1",
   "metadata": {},
   "outputs": [],
   "source": [
    "#Question 6 Answer\n",
    "from html.parser import HTMLParser\n",
    "\n",
    "class HeadingParser(HTMLParser):\n",
    "    def __init__(self):\n",
    "        super().__init__()\n",
    "        self.headings = []\n",
    "\n",
    "    def handle_starttag(self, tag, attrs):\n",
    "        try:\n",
    "            if tag.startswith('h'):\n",
    "                self.headings.append((int(tag[1:]), ''))\n",
    "        except ValueError:\n",
    "            print(f\"Invalid tag: {tag}\")\n",
    "\n",
    "\n",
    "    def handle_endtag(self, tag):\n",
    "        pass\n",
    "\n",
    "    def handle_data(self, data):\n",
    "        if self.headings:\n",
    "            last_heading = self.headings[-1]\n",
    "            self.headings[-1] = (last_heading[0], last_heading[1] + data.strip())\n",
    "\n",
    "    def print_headings(self):\n",
    "        for heading in self.headings:\n",
    "            print(' ' * heading[0] + heading[1])\n",
    "\n"
   ]
  },
  {
   "cell_type": "code",
   "execution_count": 43,
   "id": "6bc4743a",
   "metadata": {},
   "outputs": [
    {
     "name": "stdout",
     "output_type": "stream",
     "text": [
      "Invalid tag: html\n",
      "Invalid tag: head\n",
      " W3C Mission\n",
      "  Principles\n"
     ]
    }
   ],
   "source": [
    "infile = open('w3c.html') \n",
    "content = infile.read() \n",
    "infile.close() \n",
    "linkparser = HeadingParser() \n",
    "linkparser.feed(content) \n",
    "linkparser.print_headings()"
   ]
  },
  {
   "cell_type": "code",
   "execution_count": 29,
   "id": "69d85f9e",
   "metadata": {},
   "outputs": [
    {
     "name": "stdout",
     "output_type": "stream",
     "text": [
      "http://reed.cs.depaul.edu/lperkovic/csc242/test1.html\n",
      " http://reed.cs.depaul.edu/lperkovic/csc242/test2.html\n",
      "  http://reed.cs.depaul.edu/lperkovic/csc242/test3.html\n",
      "   http://reed.cs.depaul.edu/lperkovic/csc242/test4.html\n"
     ]
    }
   ],
   "source": [
    "#Question 7 Answer\n",
    "from urllib.request import urlopen\n",
    "from bs4 import BeautifulSoup\n",
    "\n",
    "def webdir(url, depth, indent):\n",
    "    print(' ' * indent + url)\n",
    "    if depth == 0:\n",
    "        return\n",
    "    try:\n",
    "        html = urlopen(url)\n",
    "    except:\n",
    "        return\n",
    "    soup = BeautifulSoup(html, 'html.parser')\n",
    "    links = soup.find_all('a')\n",
    "    for link in links:\n",
    "        href = link.get('href')\n",
    "        if href.startswith('http'):\n",
    "            webdir(href, depth-1, indent+1)\n",
    "webdir('http://reed.cs.depaul.edu/lperkovic/csc242/test1.html', 2, 0)\n",
    "webdir('http://reed.cs.depaul.edu/lperkovic/csc242/test2.html', 2, 1)\n",
    "webdir('http://reed.cs.depaul.edu/lperkovic/csc242/test3.html', 2, 2)\n",
    "webdir('http://reed.cs.depaul.edu/lperkovic/csc242/test4.html', 2, 3)"
   ]
  },
  {
   "cell_type": "code",
   "execution_count": 45,
   "id": "9f6a25ac",
   "metadata": {},
   "outputs": [
    {
     "name": "stdout",
     "output_type": "stream",
     "text": [
      "Requirement already satisfied: ipython-sql in c:\\users\\aryas\\anaconda3\\lib\\site-packages (0.5.0)\n",
      "Requirement already satisfied: prettytable in c:\\users\\aryas\\anaconda3\\lib\\site-packages (from ipython-sql) (3.6.0)\n",
      "Requirement already satisfied: ipython-genutils in c:\\users\\aryas\\anaconda3\\lib\\site-packages (from ipython-sql) (0.2.0)\n",
      "Requirement already satisfied: ipython in c:\\users\\aryas\\anaconda3\\lib\\site-packages (from ipython-sql) (7.31.1)\n",
      "Requirement already satisfied: sqlparse in c:\\users\\aryas\\anaconda3\\lib\\site-packages (from ipython-sql) (0.4.3)\n",
      "Requirement already satisfied: six in c:\\users\\aryas\\anaconda3\\lib\\site-packages (from ipython-sql) (1.16.0)\n",
      "Requirement already satisfied: sqlalchemy>=2.0 in c:\\users\\aryas\\anaconda3\\lib\\site-packages (from ipython-sql) (2.0.5.post1)\n",
      "Requirement already satisfied: typing-extensions>=4.2.0 in c:\\users\\aryas\\anaconda3\\lib\\site-packages (from sqlalchemy>=2.0->ipython-sql) (4.3.0)\n",
      "Requirement already satisfied: greenlet!=0.4.17 in c:\\users\\aryas\\anaconda3\\lib\\site-packages (from sqlalchemy>=2.0->ipython-sql) (1.1.1)\n",
      "Requirement already satisfied: jedi>=0.16 in c:\\users\\aryas\\anaconda3\\lib\\site-packages (from ipython->ipython-sql) (0.18.1)\n",
      "Requirement already satisfied: pickleshare in c:\\users\\aryas\\anaconda3\\lib\\site-packages (from ipython->ipython-sql) (0.7.5)\n",
      "Requirement already satisfied: backcall in c:\\users\\aryas\\anaconda3\\lib\\site-packages (from ipython->ipython-sql) (0.2.0)\n",
      "Requirement already satisfied: matplotlib-inline in c:\\users\\aryas\\anaconda3\\lib\\site-packages (from ipython->ipython-sql) (0.1.6)\n",
      "Requirement already satisfied: pygments in c:\\users\\aryas\\anaconda3\\lib\\site-packages (from ipython->ipython-sql) (2.11.2)\n",
      "Requirement already satisfied: traitlets>=4.2 in c:\\users\\aryas\\anaconda3\\lib\\site-packages (from ipython->ipython-sql) (5.1.1)\n",
      "Requirement already satisfied: setuptools>=18.5 in c:\\users\\aryas\\anaconda3\\lib\\site-packages (from ipython->ipython-sql) (63.4.1)\n",
      "Requirement already satisfied: colorama in c:\\users\\aryas\\anaconda3\\lib\\site-packages (from ipython->ipython-sql) (0.4.5)\n",
      "Requirement already satisfied: prompt-toolkit!=3.0.0,!=3.0.1,<3.1.0,>=2.0.0 in c:\\users\\aryas\\anaconda3\\lib\\site-packages (from ipython->ipython-sql) (3.0.20)\n",
      "Requirement already satisfied: decorator in c:\\users\\aryas\\anaconda3\\lib\\site-packages (from ipython->ipython-sql) (5.1.1)\n",
      "Requirement already satisfied: wcwidth in c:\\users\\aryas\\anaconda3\\lib\\site-packages (from prettytable->ipython-sql) (0.2.5)\n",
      "Requirement already satisfied: parso<0.9.0,>=0.8.0 in c:\\users\\aryas\\anaconda3\\lib\\site-packages (from jedi>=0.16->ipython->ipython-sql) (0.8.3)\n"
     ]
    }
   ],
   "source": [
    "#Question 8 Answer\n",
    "\n",
    "!pip install ipython-sql"
   ]
  },
  {
   "cell_type": "code",
   "execution_count": 47,
   "id": "d3fc735d",
   "metadata": {},
   "outputs": [],
   "source": [
    "import sqlite3\n",
    "\n",
    "connect = sqlite3.connect('weather.db')\n",
    "cursor = connect.cursor()\n",
    "cursor.execute('CREATE TABLE weather_Details (City TEXT, Country TEXT, Season TEXT,Temperature FLOAT,Rainfall FLOAT)')\n",
    "cursor.execute(\"INSERT INTO weather_Details VALUES ('Mumbai','India','Winter','24.8','5.9'),('Mumbai','India','Spring','28.4','16.2'),('Mumbai','India','Summer','27.9','1549.4'),('Mumbai','India','Fall','27.6','346.0'),('London','United Kingdom','Winter','4.2','207.7'),('London','United Kingdom','Spring','8.3','169.6'),('London','United Kingdom','Summer','15.7','157.0'),('London','United Kingdom','Fall','10.4','218.5'),('Cairo','Egypt','Winter','13.6','16.5'),('Cairo','Egypt','Spring','20.7','6.5'),('Cairo','Egypt','Summer','27.7','0.1'),('Cairo','Egypt','Fall','22.2','4.5')\")\n",
    "connect.commit()\n",
    "c = connect.cursor()\n"
   ]
  },
  {
   "cell_type": "code",
   "execution_count": 48,
   "id": "63b194bc",
   "metadata": {},
   "outputs": [],
   "source": [
    "%load_ext sql\n",
    "%sql sqlite:///weather.db"
   ]
  },
  {
   "cell_type": "code",
   "execution_count": 66,
   "id": "43d50e58",
   "metadata": {},
   "outputs": [
    {
     "name": "stdout",
     "output_type": "stream",
     "text": [
      " * sqlite:///weather.db\n",
      "Done.\n"
     ]
    },
    {
     "data": {
      "text/html": [
       "<table>\n",
       "    <thead>\n",
       "        <tr>\n",
       "            <th>Temperature</th>\n",
       "        </tr>\n",
       "    </thead>\n",
       "    <tbody>\n",
       "        <tr>\n",
       "            <td>24.8</td>\n",
       "        </tr>\n",
       "        <tr>\n",
       "            <td>28.4</td>\n",
       "        </tr>\n",
       "        <tr>\n",
       "            <td>27.9</td>\n",
       "        </tr>\n",
       "        <tr>\n",
       "            <td>27.6</td>\n",
       "        </tr>\n",
       "        <tr>\n",
       "            <td>4.2</td>\n",
       "        </tr>\n",
       "        <tr>\n",
       "            <td>8.3</td>\n",
       "        </tr>\n",
       "        <tr>\n",
       "            <td>15.7</td>\n",
       "        </tr>\n",
       "        <tr>\n",
       "            <td>10.4</td>\n",
       "        </tr>\n",
       "        <tr>\n",
       "            <td>13.6</td>\n",
       "        </tr>\n",
       "        <tr>\n",
       "            <td>20.7</td>\n",
       "        </tr>\n",
       "        <tr>\n",
       "            <td>27.7</td>\n",
       "        </tr>\n",
       "        <tr>\n",
       "            <td>22.2</td>\n",
       "        </tr>\n",
       "    </tbody>\n",
       "</table>"
      ],
      "text/plain": [
       "[(24.8,),\n",
       " (28.4,),\n",
       " (27.9,),\n",
       " (27.6,),\n",
       " (4.2,),\n",
       " (8.3,),\n",
       " (15.7,),\n",
       " (10.4,),\n",
       " (13.6,),\n",
       " (20.7,),\n",
       " (27.7,),\n",
       " (22.2,)]"
      ]
     },
     "execution_count": 66,
     "metadata": {},
     "output_type": "execute_result"
    }
   ],
   "source": [
    "%%sql\n",
    "\n",
    "SELECT Temperature FROM weather_Details"
   ]
  },
  {
   "cell_type": "code",
   "execution_count": 50,
   "id": "d104a013",
   "metadata": {},
   "outputs": [
    {
     "name": "stdout",
     "output_type": "stream",
     "text": [
      " * sqlite:///weather.db\n",
      "Done.\n"
     ]
    },
    {
     "data": {
      "text/html": [
       "<table>\n",
       "    <thead>\n",
       "        <tr>\n",
       "            <th>City</th>\n",
       "        </tr>\n",
       "    </thead>\n",
       "    <tbody>\n",
       "        <tr>\n",
       "            <td>Mumbai</td>\n",
       "        </tr>\n",
       "        <tr>\n",
       "            <td>London</td>\n",
       "        </tr>\n",
       "        <tr>\n",
       "            <td>Cairo</td>\n",
       "        </tr>\n",
       "    </tbody>\n",
       "</table>"
      ],
      "text/plain": [
       "[('Mumbai',), ('London',), ('Cairo',)]"
      ]
     },
     "execution_count": 50,
     "metadata": {},
     "output_type": "execute_result"
    }
   ],
   "source": [
    "%%sql\n",
    "SELECT DISTINCT City FROM weather_Details"
   ]
  },
  {
   "cell_type": "code",
   "execution_count": 51,
   "id": "b51d10f6",
   "metadata": {},
   "outputs": [
    {
     "name": "stdout",
     "output_type": "stream",
     "text": [
      " * sqlite:///weather.db\n",
      "Done.\n"
     ]
    },
    {
     "data": {
      "text/html": [
       "<table>\n",
       "    <thead>\n",
       "        <tr>\n",
       "            <th>City</th>\n",
       "            <th>Country</th>\n",
       "            <th>Season</th>\n",
       "            <th>Temperature</th>\n",
       "            <th>Rainfall</th>\n",
       "        </tr>\n",
       "    </thead>\n",
       "    <tbody>\n",
       "        <tr>\n",
       "            <td>Mumbai</td>\n",
       "            <td>India</td>\n",
       "            <td>Winter</td>\n",
       "            <td>24.8</td>\n",
       "            <td>5.9</td>\n",
       "        </tr>\n",
       "        <tr>\n",
       "            <td>Mumbai</td>\n",
       "            <td>India</td>\n",
       "            <td>Spring</td>\n",
       "            <td>28.4</td>\n",
       "            <td>16.2</td>\n",
       "        </tr>\n",
       "        <tr>\n",
       "            <td>Mumbai</td>\n",
       "            <td>India</td>\n",
       "            <td>Summer</td>\n",
       "            <td>27.9</td>\n",
       "            <td>1549.4</td>\n",
       "        </tr>\n",
       "        <tr>\n",
       "            <td>Mumbai</td>\n",
       "            <td>India</td>\n",
       "            <td>Fall</td>\n",
       "            <td>27.6</td>\n",
       "            <td>346.0</td>\n",
       "        </tr>\n",
       "    </tbody>\n",
       "</table>"
      ],
      "text/plain": [
       "[('Mumbai', 'India', 'Winter', 24.8, 5.9),\n",
       " ('Mumbai', 'India', 'Spring', 28.4, 16.2),\n",
       " ('Mumbai', 'India', 'Summer', 27.9, 1549.4),\n",
       " ('Mumbai', 'India', 'Fall', 27.6, 346.0)]"
      ]
     },
     "execution_count": 51,
     "metadata": {},
     "output_type": "execute_result"
    }
   ],
   "source": [
    "%%sql\n",
    "SELECT * FROM weather_Details WHERE Country = 'India'"
   ]
  },
  {
   "cell_type": "code",
   "execution_count": 52,
   "id": "101a415a",
   "metadata": {},
   "outputs": [
    {
     "name": "stdout",
     "output_type": "stream",
     "text": [
      " * sqlite:///weather.db\n",
      "Done.\n"
     ]
    },
    {
     "data": {
      "text/html": [
       "<table>\n",
       "    <thead>\n",
       "        <tr>\n",
       "            <th>City</th>\n",
       "            <th>Country</th>\n",
       "            <th>Season</th>\n",
       "            <th>Temperature</th>\n",
       "            <th>Rainfall</th>\n",
       "        </tr>\n",
       "    </thead>\n",
       "    <tbody>\n",
       "        <tr>\n",
       "            <td>Mumbai</td>\n",
       "            <td>India</td>\n",
       "            <td>Fall</td>\n",
       "            <td>27.6</td>\n",
       "            <td>346.0</td>\n",
       "        </tr>\n",
       "        <tr>\n",
       "            <td>London</td>\n",
       "            <td>United Kingdom</td>\n",
       "            <td>Fall</td>\n",
       "            <td>10.4</td>\n",
       "            <td>218.5</td>\n",
       "        </tr>\n",
       "        <tr>\n",
       "            <td>Cairo</td>\n",
       "            <td>Egypt</td>\n",
       "            <td>Fall</td>\n",
       "            <td>22.2</td>\n",
       "            <td>4.5</td>\n",
       "        </tr>\n",
       "    </tbody>\n",
       "</table>"
      ],
      "text/plain": [
       "[('Mumbai', 'India', 'Fall', 27.6, 346.0),\n",
       " ('London', 'United Kingdom', 'Fall', 10.4, 218.5),\n",
       " ('Cairo', 'Egypt', 'Fall', 22.2, 4.5)]"
      ]
     },
     "execution_count": 52,
     "metadata": {},
     "output_type": "execute_result"
    }
   ],
   "source": [
    "%%sql\n",
    "\n",
    "SELECT * FROM weatherDetails WHERE Season = 'Fall'"
   ]
  },
  {
   "cell_type": "code",
   "execution_count": 61,
   "id": "951a7f8b",
   "metadata": {},
   "outputs": [
    {
     "name": "stdout",
     "output_type": "stream",
     "text": [
      " * sqlite:///weather.db\n",
      "Done.\n"
     ]
    },
    {
     "data": {
      "text/html": [
       "<table>\n",
       "    <thead>\n",
       "        <tr>\n",
       "            <th>City</th>\n",
       "            <th>Country</th>\n",
       "            <th>Season</th>\n",
       "            <th>avgRainfall</th>\n",
       "        </tr>\n",
       "    </thead>\n",
       "    <tbody>\n",
       "        <tr>\n",
       "            <td>London</td>\n",
       "            <td>United Kingdom</td>\n",
       "            <td>Fall</td>\n",
       "            <td>218.5</td>\n",
       "        </tr>\n",
       "        <tr>\n",
       "            <td>London</td>\n",
       "            <td>United Kingdom</td>\n",
       "            <td>Winter</td>\n",
       "            <td>207.7</td>\n",
       "        </tr>\n",
       "        <tr>\n",
       "            <td>Mumbai</td>\n",
       "            <td>India</td>\n",
       "            <td>Fall</td>\n",
       "            <td>346.0</td>\n",
       "        </tr>\n",
       "    </tbody>\n",
       "</table>"
      ],
      "text/plain": [
       "[('London', 'United Kingdom', 'Fall', 218.5),\n",
       " ('London', 'United Kingdom', 'Winter', 207.7),\n",
       " ('Mumbai', 'India', 'Fall', 346.0)]"
      ]
     },
     "execution_count": 61,
     "metadata": {},
     "output_type": "execute_result"
    }
   ],
   "source": [
    "%%sql\n",
    "SELECT City, Country, Season, AVG(Rainfall) as avgRainfall FROM weather_Details GROUP BY City, Country, Season HAVING avgRainfall >= 200 AND avgRainfall <= 400;"
   ]
  },
  {
   "cell_type": "code",
   "execution_count": 64,
   "id": "b3bc395c",
   "metadata": {},
   "outputs": [
    {
     "name": "stdout",
     "output_type": "stream",
     "text": [
      " * sqlite:///weather.db\n",
      "Done.\n"
     ]
    },
    {
     "data": {
      "text/html": [
       "<table>\n",
       "    <thead>\n",
       "        <tr>\n",
       "            <th>City</th>\n",
       "            <th>Country</th>\n",
       "            <th>avgtemp</th>\n",
       "        </tr>\n",
       "    </thead>\n",
       "    <tbody>\n",
       "        <tr>\n",
       "            <td>Cairo</td>\n",
       "            <td>Egypt</td>\n",
       "            <td>22.2</td>\n",
       "        </tr>\n",
       "        <tr>\n",
       "            <td>Mumbai</td>\n",
       "            <td>India</td>\n",
       "            <td>27.6</td>\n",
       "        </tr>\n",
       "    </tbody>\n",
       "</table>"
      ],
      "text/plain": [
       "[('Cairo', 'Egypt', 22.2), ('Mumbai', 'India', 27.6)]"
      ]
     },
     "execution_count": 64,
     "metadata": {},
     "output_type": "execute_result"
    }
   ],
   "source": [
    "%%sql\n",
    "SELECT City, Country, AVG(Temperature) as avgtemp FROM weather_Details WHERE Season = 'Fall' GROUP BY City, Country HAVING avgtemp > 20 ORDER BY Temperature ASC\n"
   ]
  },
  {
   "cell_type": "code",
   "execution_count": 57,
   "id": "9b585218",
   "metadata": {},
   "outputs": [
    {
     "name": "stdout",
     "output_type": "stream",
     "text": [
      " * sqlite:///weather.db\n",
      "Done.\n"
     ]
    },
    {
     "data": {
      "text/html": [
       "<table>\n",
       "    <thead>\n",
       "        <tr>\n",
       "            <th>SUM(Rainfall)</th>\n",
       "        </tr>\n",
       "    </thead>\n",
       "    <tbody>\n",
       "        <tr>\n",
       "            <td>27.6</td>\n",
       "        </tr>\n",
       "    </tbody>\n",
       "</table>"
      ],
      "text/plain": [
       "[(27.6,)]"
      ]
     },
     "execution_count": 57,
     "metadata": {},
     "output_type": "execute_result"
    }
   ],
   "source": [
    "%%sql\n",
    "SELECT SUM(Rainfall) FROM weatherDetails WHERE City='Cairo'"
   ]
  },
  {
   "cell_type": "code",
   "execution_count": 58,
   "id": "46fa22ad",
   "metadata": {},
   "outputs": [
    {
     "name": "stdout",
     "output_type": "stream",
     "text": [
      " * sqlite:///weather.db\n",
      "Done.\n"
     ]
    },
    {
     "data": {
      "text/html": [
       "<table>\n",
       "    <thead>\n",
       "        <tr>\n",
       "            <th>SUM(Rainfall)</th>\n",
       "        </tr>\n",
       "    </thead>\n",
       "    <tbody>\n",
       "        <tr>\n",
       "            <td>569.0</td>\n",
       "        </tr>\n",
       "        <tr>\n",
       "            <td>192.29999999999998</td>\n",
       "        </tr>\n",
       "        <tr>\n",
       "            <td>1706.5</td>\n",
       "        </tr>\n",
       "        <tr>\n",
       "            <td>230.1</td>\n",
       "        </tr>\n",
       "    </tbody>\n",
       "</table>"
      ],
      "text/plain": [
       "[(569.0,), (192.29999999999998,), (1706.5,), (230.1,)]"
      ]
     },
     "execution_count": 58,
     "metadata": {},
     "output_type": "execute_result"
    }
   ],
   "source": [
    "%%sql\n",
    "SELECT SUM(Rainfall) FROM weatherDetails GROUP BY Season"
   ]
  },
  {
   "cell_type": "code",
   "execution_count": 30,
   "id": "d14ef499",
   "metadata": {},
   "outputs": [
    {
     "name": "stdout",
     "output_type": "stream",
     "text": [
      "\n",
      "a) ['THE', 'QUICK', 'BROWN', 'FOX', 'JUMPS', 'OVER', 'THE', 'LAZY', 'DOG']\n",
      "\n",
      "b) ['the', 'quick', 'brown', 'fox', 'jumps', 'over', 'the', 'lazy', 'dog']\n",
      "\n",
      "c) [3, 5, 5, 3, 5, 4, 3, 4, 3]\n",
      "\n",
      "d) [['THE', 'the', 3], ['QUICK', 'quick', 5], ['BROWN', 'brown', 5], ['FOX', 'fox', 3], ['JUMPS', 'jumps', 5], ['OVER', 'over', 4], ['THE', 'the', 3], ['LAZY', 'lazy', 4], ['DOG', 'dog', 3]]\n",
      "\n",
      "e) ['quick', 'brown', 'jumps', 'over', 'lazy']\n"
     ]
    }
   ],
   "source": [
    "#Question 9 Answer\n",
    "words = ['The', 'quick', 'brown', 'fox', 'jumps', 'over', 'the', 'lazy', 'dog']\n",
    "outputList1 = []\n",
    "outputList2 = []\n",
    "outputList3 = []\n",
    "outputList5 = []\n",
    "outputList4 = []\n",
    "for c in words:\n",
    "    outputList1.append(c.upper())\n",
    "    outputList2.append(c.lower())\n",
    "    outputList3.append(len(c))\n",
    "    if (len(c) >=4):\n",
    "        outputList5.append(c)\n",
    "le =len(words)\n",
    "for i in range(le):\n",
    "    temp = [outputList1[i],outputList2[i],outputList3[i]]\n",
    "    outputList4.append(temp)\n",
    "print(\"\\na)\",outputList1)\n",
    "print(\"\\nb)\",outputList2)\n",
    "print(\"\\nc)\",outputList3)\n",
    "print(\"\\nd)\",outputList4)\n",
    "print(\"\\ne)\",outputList5)"
   ]
  },
  {
   "cell_type": "code",
   "execution_count": null,
   "id": "68ad5335",
   "metadata": {},
   "outputs": [],
   "source": []
  }
 ],
 "metadata": {
  "kernelspec": {
   "display_name": "Python 3 (ipykernel)",
   "language": "python",
   "name": "python3"
  },
  "language_info": {
   "codemirror_mode": {
    "name": "ipython",
    "version": 3
   },
   "file_extension": ".py",
   "mimetype": "text/x-python",
   "name": "python",
   "nbconvert_exporter": "python",
   "pygments_lexer": "ipython3",
   "version": "3.9.13"
  }
 },
 "nbformat": 4,
 "nbformat_minor": 5
}
